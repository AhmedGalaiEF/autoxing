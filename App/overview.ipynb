{
 "cells": [
  {
   "cell_type": "code",
   "execution_count": 1,
   "id": "d577a614-2435-44c5-901a-d01baafcece3",
   "metadata": {},
   "outputs": [],
   "source": [
    "from api_lib_v0 import *"
   ]
  },
  {
   "cell_type": "code",
   "execution_count": 2,
   "id": "86f452e0-c12a-43b7-b5e1-8683ae6c6aa9",
   "metadata": {},
   "outputs": [],
   "source": [
    "rid = get_online_robots().iloc[0].robotId\n",
    "robot = Robot_v2(rid)"
   ]
  },
  {
   "cell_type": "code",
   "execution_count": 4,
   "id": "5c222351-1051-47cc-a8f1-0b45264ef193",
   "metadata": {},
   "outputs": [
    {
     "data": {
      "text/html": [
       "<pre style=\"white-space:pre;overflow-x:auto;line-height:normal;font-family:Menlo,'DejaVu Sans Mono',consolas,'Courier New',monospace\"><span style=\"color: #7fbfbf; text-decoration-color: #7fbfbf\">[12:07:07] </span><span style=\"color: #000080; text-decoration-color: #000080\">INFO    </span> Applying feature scale factor ≈ <span style=\"color: #008080; text-decoration-color: #008080; font-weight: bold\">10000.000</span>                                                      \n",
       "</pre>\n"
      ],
      "text/plain": [
       "\u001b[2;36m[12:07:07]\u001b[0m\u001b[2;36m \u001b[0m\u001b[34mINFO    \u001b[0m Applying feature scale factor ≈ \u001b[1;36m10000.000\u001b[0m                                                      \n"
      ]
     },
     "metadata": {},
     "output_type": "display_data"
    },
    {
     "data": {
      "text/html": [
       "<pre style=\"white-space:pre;overflow-x:auto;line-height:normal;font-family:Menlo,'DejaVu Sans Mono',consolas,'Courier New',monospace\"><span style=\"color: #7fbfbf; text-decoration-color: #7fbfbf\">[12:07:10] </span><span style=\"color: #000080; text-decoration-color: #000080\">INFO    </span> Wrote: map_with_layers.png <span style=\"font-weight: bold\">(</span><span style=\"color: #808000; text-decoration-color: #808000\">features</span>=<span style=\"color: #008080; text-decoration-color: #008080; font-weight: bold\">15</span><span style=\"font-weight: bold\">)</span>                                                       \n",
       "</pre>\n"
      ],
      "text/plain": [
       "\u001b[2;36m[12:07:10]\u001b[0m\u001b[2;36m \u001b[0m\u001b[34mINFO    \u001b[0m Wrote: map_with_layers.png \u001b[1m(\u001b[0m\u001b[33mfeatures\u001b[0m=\u001b[1;36m15\u001b[0m\u001b[1m)\u001b[0m                                                       \n"
      ]
     },
     "metadata": {},
     "output_type": "display_data"
    },
    {
     "data": {
      "text/plain": [
       "'map_with_layers.png'"
      ]
     },
     "execution_count": 4,
     "metadata": {},
     "output_type": "execute_result"
    }
   ],
   "source": [
    "render_full_map(rid)"
   ]
  },
  {
   "cell_type": "code",
   "execution_count": null,
   "id": "c9364653-d920-4302-9ce1-639d64745377",
   "metadata": {},
   "outputs": [],
   "source": []
  }
 ],
 "metadata": {
  "kernelspec": {
   "display_name": "Python 3 (ipykernel)",
   "language": "python",
   "name": "python3"
  },
  "language_info": {
   "codemirror_mode": {
    "name": "ipython",
    "version": 3
   },
   "file_extension": ".py",
   "mimetype": "text/x-python",
   "name": "python",
   "nbconvert_exporter": "python",
   "pygments_lexer": "ipython3",
   "version": "3.13.7"
  }
 },
 "nbformat": 4,
 "nbformat_minor": 5
}
